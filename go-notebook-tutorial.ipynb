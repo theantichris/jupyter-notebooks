{
 "cells": [
  {
   "cell_type": "markdown",
   "id": "5ed8b183-4c47-4e5f-9b69-6a956df706d7",
   "metadata": {},
   "source": [
    "# Goal\n",
    "\n",
    "- Learn to implement the model f(w,b) for linear regression with one variable."
   ]
  },
  {
   "cell_type": "markdown",
   "id": "a5d9729d-9503-4960-a171-714476b2f671",
   "metadata": {},
   "source": [
    "# Tools\n",
    "\n",
    "- NumPy, a popular library for scientific computer\n",
    "- Matplotlib, a popular library for plotting data"
   ]
  },
  {
   "cell_type": "code",
   "execution_count": 13,
   "id": "8d09147b-96aa-4a60-ae7f-f2e04a29af38",
   "metadata": {},
   "outputs": [
    {
     "name": "stderr",
     "output_type": "stream",
     "text": [
      "Matplotlib is building the font cache; this may take a moment.\n"
     ]
    }
   ],
   "source": [
    "import numpy as np\n",
    "import matplotlib.pyplot as plt"
   ]
  },
  {
   "cell_type": "markdown",
   "id": "683d1176-acaf-4b41-976e-d8e23576e006",
   "metadata": {},
   "source": [
    "# Problem Statement\n",
    "\n",
    "As in the lecture, you will use the motivating example of housing price prediction. This lab will use a simple data set with only two data points, a house with 1000 square feet (sqft) sold for 300,000 USD and a house with 2000 square feet sold for 500,000 USD. These two points will constitute our data or training set. In this lab, the units of size are 1000 sqft and the units of price are 1000s of dollars.\n",
    "\n",
    "You would like to fit a linear regression model through these two points so you can then predict price for other houses, say a house with 1200 sqft.\n",
    "\n",
    "Please run the following code cell to create your `x_train` and `y_train` variables. The data is stored in one dimensional NumPy arrays."
   ]
  },
  {
   "cell_type": "code",
   "execution_count": 2,
   "id": "3bcfc93a-18b6-47f2-b6c2-43cb6815f998",
   "metadata": {},
   "outputs": [
    {
     "name": "stdout",
     "output_type": "stream",
     "text": [
      "x_train = [1. 2.]\n",
      "y_train = [300. 500.]\n"
     ]
    }
   ],
   "source": [
    "# x_train is the input variable (size in 1000 square feet)\n",
    "x_train = np.array([1.0, 2.0])\n",
    "\n",
    "# y_train is the target (price in 1000s of dollars)\n",
    "y_train = np.array([300.0, 500.0])\n",
    "\n",
    "print(f\"x_train = {x_train}\")\n",
    "print(f\"y_train = {y_train}\")"
   ]
  },
  {
   "cell_type": "markdown",
   "id": "8c206721-79d8-4aa8-83e7-fe309e18e8c9",
   "metadata": {},
   "source": [
    "# Number of training examples `m`\n",
    "\n",
    "You will use `m` to denote the number of training examples.\n",
    "\n",
    "NumPy arrays have a `.shape` parameter. `x_train.shape` returns a Python tuple with an entry for each dimension. `x_train.shape[0]` is the length of the array and number of examples shown below."
   ]
  },
  {
   "cell_type": "code",
   "execution_count": 4,
   "id": "831028c2-34cc-49d4-90a8-3fec6893048a",
   "metadata": {},
   "outputs": [
    {
     "name": "stdout",
     "output_type": "stream",
     "text": [
      "x_train.shape: (2,)\n",
      "Number of training examples is: 2\n"
     ]
    }
   ],
   "source": [
    "# m is the number of training examples\n",
    "print(f\"x_train.shape: {x_train.shape}\")\n",
    "\n",
    "m = x_train.shape[0]\n",
    "print(f\"Number of training examples is: {m}\")"
   ]
  },
  {
   "cell_type": "markdown",
   "id": "1fc415ce-1ccd-4571-aae0-e380b12633ac",
   "metadata": {},
   "source": [
    "You can also use the Python `len()` function as shown below."
   ]
  },
  {
   "cell_type": "code",
   "execution_count": 7,
   "id": "0825bff0-ff1e-412c-85e9-cd7415030092",
   "metadata": {},
   "outputs": [
    {
     "name": "stdout",
     "output_type": "stream",
     "text": [
      "Number of training examples is: 2\n"
     ]
    }
   ],
   "source": [
    "# m is the number of training examples\n",
    "m = len(x_train)\n",
    "print(f\"Number of training examples is: {m}\")"
   ]
  },
  {
   "cell_type": "markdown",
   "id": "90bb2274-29c8-443a-b916-8c4bad6672fc",
   "metadata": {},
   "source": [
    "# Training example `x_i, y_i`\n",
    "\n",
    "You will use (x^i, y^i)) to denote the ith training example. Since Python is zero indexed (x^0, y^0)) is (1.0, 300.0).\n",
    "\n",
    "To access a value in a NumPy array, one indexes the array with the desired offset. For example the syntax to access location zero of `x_train` is `x_train[0]`. Run the next code block to get the ith training example."
   ]
  },
  {
   "cell_type": "code",
   "execution_count": 11,
   "id": "61fc0b73-6175-4b1f-a68a-5716a03c53be",
   "metadata": {},
   "outputs": [
    {
     "name": "stdout",
     "output_type": "stream",
     "text": [
      "x^(0), y^(0)) = (1.0, 300.0)\n"
     ]
    }
   ],
   "source": [
    "i = 0\n",
    "\n",
    "x_i = x_train[i]\n",
    "y_i = y_train[i]\n",
    "\n",
    "print(f\"x^({i}), y^({i})) = ({x_i}, {y_i})\")"
   ]
  },
  {
   "cell_type": "markdown",
   "id": "fae90af7-3063-4797-a8e1-f4db2a07e99f",
   "metadata": {},
   "source": [
    "# Plotting the data\n",
    "\n",
    "You can plot these two points using the `scatter() function in the `matplotlib` libray, as shown in the cell below.\n",
    "\n",
    "- The function arguments `marker` and `c` (color) show the points as red crosses (the default is blue dots).\n",
    "\n",
    "You can use other functions in the `matplotlib` library to set the title and labels to display."
   ]
  },
  {
   "cell_type": "code",
   "execution_count": 16,
   "id": "decd208b-0195-4a30-b1da-b594f35fc2d0",
   "metadata": {},
   "outputs": [
    {
     "data": {
      "image/png": "[encoded data removed]",
      "text/plain": [
       "<Figure size 640x480 with 1 Axes>"
      ]
     },
     "metadata": {},
     "output_type": "display_data"
    }
   ],
   "source": [
    "# Plot the data points\n",
    "plt.scatter(x_train, y_train, marker=\"x\", c=\"r\")\n",
    "\n",
    "# Set the x axis label\n",
    "plt.xlabel('Size (1000 sqft)')\n",
    "\n",
    "# Set the title\n",
    "plt.title(\"Housing Prices\")\n",
    "\n",
    "# Set the y axis label\n",
    "plt.ylabel('Price (in 1000s of dollars)')\n",
    "\n",
    "plt.show()"
   ]
  },
  {
   "cell_type": "markdown",
   "id": "928669fa-0d8d-4a5c-8e6c-abee1222b433",
   "metadata": {},
   "source": [
    "# Model function\n",
    "\n",
    "As described in the lecture, the model function for linear regression (which is a function that maps from `x` to `y`) is represented as\n",
    "\n",
    "f(w,b)(x^i) = wx^i + b\n",
    "\n",
    "The formula above is how you can represent straight lines, different values of w and b give you different straight lines on the plot.\n",
    "\n",
    "Let's try to get a better intuition for this through the code blocks below. Let's start with w = 100 and b = 100."
   ]
  },
  {
   "cell_type": "code",
   "execution_count": 17,
   "id": "c3cb558e-f8d1-4687-82f0-cd9246adeb56",
   "metadata": {},
   "outputs": [
    {
     "name": "stdout",
     "output_type": "stream",
     "text": [
      "w: 200\n",
      "b: 100\n"
     ]
    }
   ],
   "source": [
    "w = 200\n",
    "b = 100\n",
    "\n",
    "print(f\"w: {w}\")\n",
    "print(f\"b: {b}\")"
   ]
  },
  {
   "cell_type": "markdown",
   "id": "3f60494f-a15b-4b76-bd4d-b609643329f0",
   "metadata": {},
   "source": [
    "Now let's compute the value of f(w,b)(x^i) for the two data points. You can explicitly write this out for each data point as:\n",
    "\n",
    "for x^0 = f_wb = w * x[0] + b\n",
    "for x^i = f_wb = w * x[i] + b\n",
    "\n",
    "For a large number of data points this can get unwieldy and repetitive. So instead, you can calculate the function output in a `for` loop as shown in the `compute_model_output` function below.\n",
    "\n",
    "***Note:*** The argument description `(ndarray (m, ))` describes a NumPy n-dimensional array of shape (m,). `(scalar)` describes an argument without dimensions, just a magnitude.\n",
    "\n",
    "***Note:*** `np.zero(n)` will return a one-dimensional NumPy array with n entries."
   ]
  },
  {
   "cell_type": "code",
   "execution_count": 20,
   "id": "c80c208e-fc0d-49eb-b6fd-f5e4112fddf8",
   "metadata": {},
   "outputs": [],
   "source": [
    "def compute_model_output(x, w, b):\n",
    "    \"\"\"\n",
    "    Computes the prediction of a linear model\n",
    "    Args:\n",
    "        x (ndarray (m,)): Data, m examples\n",
    "        w,b (scalar)    : model parameters\n",
    "    Returns\n",
    "        f_wb (ndarray (m,)): model prediction\n",
    "    \"\"\"\n",
    "\n",
    "    m = x.shape[0]\n",
    "    f_wb = np.zeros(m)\n",
    "\n",
    "    for i in range(m):\n",
    "        f_wb[i] = w * x[i] + b\n",
    "\n",
    "    return f_wb"
   ]
  },
  {
   "cell_type": "markdown",
   "id": "417271c7-91b7-4a63-87d1-5c3983506217",
   "metadata": {},
   "source": [
    "Now let's call the `compute_model_output` function and plot the output."
   ]
  },
  {
   "cell_type": "code",
   "execution_count": 22,
   "id": "693ec905-6fdf-493f-bcfb-2d6f3a0da6a9",
   "metadata": {},
   "outputs": [
    {
     "data": {
      "image/png": "[encoded data removed]",
      "text/plain": [
       "<Figure size 640x480 with 1 Axes>"
      ]
     },
     "metadata": {},
     "output_type": "display_data"
    }
   ],
   "source": [
    "tmp_f_wb = compute_model_output(x_train, w, b)\n",
    "\n",
    "# Plot our model prediction\n",
    "plt.plot(x_train, tmp_f_wb, c='b', label='Our Prediction')\n",
    "\n",
    "# Plot the data points\n",
    "plt.scatter(x_train, y_train, marker='x', c='r', label='Actual Values')\n",
    "\n",
    "# Set the title\n",
    "plt.title(\"Housing Prices\")\n",
    "\n",
    "# Set the x axis label\n",
    "plt.xlabel('Size (1000 sqft)')\n",
    "\n",
    "# Set the y axis label\n",
    "plt.ylabel('Price (in 1000s of dollars)')\n",
    "\n",
    "plt.legend()\n",
    "plt.show()"
   ]
  },
  {
   "cell_type": "markdown",
   "id": "9020f922-c13a-45d8-9e5f-cce090a13f7a",
   "metadata": {},
   "source": [
    "# Prediction\n",
    "\n",
    "Now that we have a model we can use it to make our original prediction. Let's predict the price of a house with 1200 sqft. Since the units of x are in 1000s of sqft, x is 1.2."
   ]
  },
  {
   "cell_type": "code",
   "execution_count": 25,
   "id": "c051ae6a-247c-4e8a-aca4-056905f57a60",
   "metadata": {},
   "outputs": [
    {
     "name": "stdout",
     "output_type": "stream",
     "text": [
      "$340 thousand dollars\n"
     ]
    }
   ],
   "source": [
    "w = 200\n",
    "b = 100\n",
    "\n",
    "x_i = 1.2\n",
    "cost_1200sqft = w * x_i + b\n",
    "\n",
    "print(f\"${cost_1200sqft:.0f} thousand dollars\")"
   ]
  },
  {
   "cell_type": "code",
   "execution_count": null,
   "id": "efd8eb79-8723-4dd8-b582-3ccd529f9451",
   "metadata": {},
   "outputs": [],
   "source": []
  }
 ],
 "metadata": {
  "kernelspec": {
   "display_name": "Python (Jupyter Notebooks)",
   "language": "python",
   "name": "jupyter-notebooks"
  },
  "language_info": {
   "codemirror_mode": {
    "name": "ipython",
    "version": 3
   },
   "file_extension": ".py",
   "mimetype": "text/x-python",
   "name": "python",
   "nbconvert_exporter": "python",
   "pygments_lexer": "ipython3",
   "version": "3.12.11"
  }
 },
 "nbformat": 4,
 "nbformat_minor": 5
}
