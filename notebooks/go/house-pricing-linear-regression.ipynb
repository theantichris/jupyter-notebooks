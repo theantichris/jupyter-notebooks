{
 "cells": [
  {
   "cell_type": "markdown",
   "id": "e9d584c7-152e-4597-a8d8-17a3485106f5",
   "metadata": {},
   "source": [
    "# Goal\n",
    "\n",
    "- Learn to implement the model f(w,b) for linear regression with one variable."
   ]
  },
  {
   "cell_type": "markdown",
   "id": "4736bc9a-3f37-49d0-b79d-c3235e97da21",
   "metadata": {},
   "source": [
    "# Tools\n",
    "\n",
    "- gonum, a library for scientific computing and plotting"
   ]
  },
  {
   "cell_type": "code",
   "execution_count": 28,
   "id": "1b6fa162-078d-414c-a3fa-3e2b7841abb5",
   "metadata": {},
   "outputs": [],
   "source": [
    "import (\n",
    "    \"image/color\"\n",
    "    \"log\"\n",
    "    \n",
    "    \"gonum.org/v1/gonum/mat\"\n",
    "    \"gonum.org/v1/plot\"\n",
    "    \"gonum.org/v1/plot/plotter\"\n",
    "    \"gonum.org/v1/plot/vg\"\n",
    ")"
   ]
  },
  {
   "cell_type": "markdown",
   "id": "9fedef61-ba6f-441a-8481-d877b801b987",
   "metadata": {},
   "source": [
    "# Problem Statement\n",
    "\n",
    "The motivating example of this notebhook is to predict housing price. It will use a simple data set with only two data points:\n",
    "\n",
    "| Size | Price | \n",
    "| -----| ------|\n",
    "| 1000 | 300   |\n",
    "| 2000 | 500   |\n",
    "\n",
    "These two points will consitute our data or training set. In this project the units of size are 1000 sqft and the units of price are 1000s of dollars.\n",
    "\n",
    "I will fit a linear regression model through these two points so I can then predict the price of other houses."
   ]
  },
  {
   "cell_type": "code",
   "execution_count": 29,
   "id": "b6a2071d-7b7b-47fd-8814-4ca09f10115d",
   "metadata": {},
   "outputs": [
    {
     "name": "stdout",
     "output_type": "stream",
     "text": [
      "xTrain = ⎡1⎤\n",
      "         ⎣2⎦\n",
      "yTrain = ⎡300⎤\n",
      "         ⎣500⎦\n"
     ]
    }
   ],
   "source": [
    "// mat.VecDense is used for 1 dimensional numeric vectors.\n",
    "// mat.Formatted formats matrices/vecors\n",
    "// mat.Prefix is adding space to align the output\n",
    "\n",
    "// Variables are setup as global so following cells have access to them\n",
    "\n",
    "// xTrain is the input variable (size in 1000 sqft)\n",
    "var xTrain = mat.NewVecDense(2, []float64{1.0, 2.0})\n",
    "\n",
    "// yTrain is the target (price in 1000s of dollars)\n",
    "var yTrain = mat.NewVecDense(2, []float64{300.0, 500.0})\n",
    "\n",
    "// %% is a shortcut for func main()\n",
    "%%\n",
    "\n",
    "fmt.Printf(\"xTrain = %v\\n\", mat.Formatted(xTrain, mat.Prefix(\"         \")))\n",
    "fmt.Printf(\"yTrain = %v\\n\", mat.Formatted(yTrain, mat.Prefix(\"         \")))"
   ]
  },
  {
   "cell_type": "markdown",
   "id": "2352a7f5-08ab-410a-b56b-c39faf0a7beb",
   "metadata": {},
   "source": [
    "# Number of training examples `m`\n",
    "\n",
    "`m` denotes the number of training examples.\n",
    "\n",
    "Gonum arrays have a `.Dims()` function that returns the dimensions of the array."
   ]
  },
  {
   "cell_type": "code",
   "execution_count": 30,
   "id": "ec64ce24-8ce0-48e4-ad76-2defbd4f806d",
   "metadata": {},
   "outputs": [
    {
     "name": "stdout",
     "output_type": "stream",
     "text": [
      "xTrain has shape (2, 1)\n",
      "Number of training examples is: 2"
     ]
    }
   ],
   "source": [
    "%%\n",
    "\n",
    "// Returns the number of rows and columns of the vector/matrix.\n",
    "// Ignore the columns return value since it is a 1 dimensional vector.\n",
    "m, _ := xTrain.Dims()\n",
    "\n",
    "fmt.Printf(\"xTrain has shape (%d, 1)\\n\", m)\n",
    "fmt.Printf(\"Number of training examples is: %d\", m)"
   ]
  },
  {
   "cell_type": "markdown",
   "id": "1f2f09b4-1a2d-45fc-895a-29e4436c1deb",
   "metadata": {},
   "source": [
    "You can also use the `Len()` function."
   ]
  },
  {
   "cell_type": "code",
   "execution_count": 31,
   "id": "3cb8283a-d5ca-4c9e-b458-b8a3871adc0c",
   "metadata": {},
   "outputs": [
    {
     "name": "stdout",
     "output_type": "stream",
     "text": [
      "Number of training examples is: 2"
     ]
    }
   ],
   "source": [
    "%%\n",
    "\n",
    "m := xTrain.Len()\n",
    "\n",
    "fmt.Printf(\"Number of training examples is: %d\", m)"
   ]
  },
  {
   "cell_type": "markdown",
   "id": "23c92f0d-8cbb-4194-977b-fbaca5bec7e1",
   "metadata": {},
   "source": [
    "# Training example x_i, y_i\n",
    "\n",
    "I will use `(x^i, y^i)` to denote the ***ith*** training example. Since Go is zero indexed `(x^0, y^0)` is `(1.0, 300.0)`\n",
    "\n",
    "To access a value in a Gonum array, use the `AtVec()` function with the desired offset. For example the syntax to access location zero of `xTrain` is `xTrain.AtVec(0)`."
   ]
  },
  {
   "cell_type": "code",
   "execution_count": 32,
   "id": "e23e94c6-38cd-475a-b557-176ea0bdd175",
   "metadata": {},
   "outputs": [
    {
     "name": "stdout",
     "output_type": "stream",
     "text": [
      "x^(0), y^(0) = (1.0, 300.0)\n"
     ]
    }
   ],
   "source": [
    "%%\n",
    "\n",
    "index := 0\n",
    "\n",
    "x_i := xTrain.AtVec(index)\n",
    "y_i := yTrain.AtVec(index)\n",
    "\n",
    "fmt.Printf(\"x^(%d), y^(%d) = (%.1f, %.1f)\\n\", index, index, x_i, y_i)"
   ]
  },
  {
   "cell_type": "markdown",
   "id": "8ade14ab-084e-453f-9f07-88f36c1d186e",
   "metadata": {},
   "source": [
    "# Plotting the data\n",
    "\n",
    "I will plot these two points using the `plot.New()` and `plotter.NewScatter()` functions."
   ]
  },
  {
   "cell_type": "code",
   "execution_count": 45,
   "id": "9ab02dd3-c99e-4170-8adc-d0a748875d4d",
   "metadata": {},
   "outputs": [
    {
     "data": {
      "image/png": "[encoded data removed]"
     },
     "metadata": {},
     "output_type": "display_data"
    }
   ],
   "source": [
    "%%\n",
    "\n",
    "\n",
    "// Create a new plot\n",
    "plot := plot.New()\n",
    "plot.Title.Text = \"Housing Prices\"\n",
    "plot.X.Label.Text = \"Size (1000 sqft)\"\n",
    "plot.Y.Label.Text = \"Price (1000s of dollars)\"\n",
    "\n",
    "// Build XY points from VecDense\n",
    "m := xTrain.Len()\n",
    "points := make(plotter.XYs, m)\n",
    "for i := 0; i < m; i++ {\n",
    "    points[i].X = xTrain.AtVec(i)\n",
    "    points[i].Y = yTrain.AtVec(i)\n",
    "}\n",
    "\n",
    "scatter, err := plotter.NewScatter(points)\n",
    "if err != nil { log.Fatal(err) }\n",
    "\n",
    "// Style the scatter points\n",
    "scatter.GlyphStyle.Shape = draw.CrossGlyph{}\n",
    "scatter.GlyphStyle.Color = color.RGBA{R: 255, A: 255}\n",
    "\n",
    "// Add the scatter points to the plot\n",
    "plot.Add(scatter)\n",
    "\n",
    "// Save the plot as a png file\n",
    "if err := plot.Save(6*vg.Inch, 4*vg.Inch, \"scatter.png\"); err != nil {\n",
    "    log.Fatal(err)\n",
    "}\n",
    "\n",
    "// Display the plot\n",
    "writer, err := plot.WriterTo(6*vg.Inch, 4*vg.Inch, \"png\")\n",
    "if err != nil { log.Fatal(err) }\n",
    "buffer := new(bytes.Buffer)\n",
    "\n",
    "if _, err := writer.WriteTo(buffer); err != nil { log.Fatal(err) }\n",
    "\n",
    "gonbui.DisplayPng(buffer.Bytes())"
   ]
  },
  {
   "cell_type": "markdown",
   "id": "098bc8ba-b8f9-4a8a-8074-3af45894d515",
   "metadata": {},
   "source": [
    "# Model function\n",
    "\n",
    "The model function for linear regression (which is a function that maps from `x` to `y`) is represented as `f(w,b)(x^i) = wx^i + b`. Here `w` is weight and `b` is bias.\n",
    "\n",
    "This forumla is how you can represent straight lines, different values of `w` and `b` give you different straight lines on a plot.\n",
    "\n",
    "I'll start with a weight of 100 and bias of 100."
   ]
  },
  {
   "cell_type": "code",
   "execution_count": 67,
   "id": "77834c3b-267a-4914-86e8-cc68c2f84035",
   "metadata": {},
   "outputs": [
    {
     "name": "stdout",
     "output_type": "stream",
     "text": [
      "weight: 100.0\n",
      "bias: 100.0\n"
     ]
    }
   ],
   "source": [
    "var w = 100.0\n",
    "var b = 100.0\n",
    "\n",
    "%%\n",
    "\n",
    "fmt.Printf(\"weight: %.1f\\n\", w)\n",
    "fmt.Printf(\"bias: %.1f\\n\", b)"
   ]
  },
  {
   "cell_type": "markdown",
   "id": "3e93aab7-a2cc-4d62-8046-5d1750095533",
   "metadata": {},
   "source": [
    "Now I will compute the value of `f(w,b)(x^i) for the two data points. This can be explicitly written out as:\n",
    "\n",
    "```\n",
    "for x^0 = f_wb = w * x[0] + b\n",
    "for x^1 = f_wb = w *x[1] + b\n",
    "```\n",
    "\n",
    "For a large number of data points this can get unweildy and repetitive. Instead I will use a function with a for loop."
   ]
  },
  {
   "cell_type": "code",
   "execution_count": 68,
   "id": "61a960ab-ba17-4d4a-802c-1a50d84a5d28",
   "metadata": {},
   "outputs": [],
   "source": [
    "// computeModelOutput takes a 1 dimensional vector and computes the prediction of a linear model.\n",
    "func computeModelOutput(x *mat.VecDense, w, b float64) []float64 {\n",
    "    m := x.Len()\n",
    "    fwb := make([]float64, m)\n",
    "\n",
    "    for i := 0; i < m; i++ {\n",
    "        fwb[i] = w * x.AtVec(i) + b\n",
    "    }\n",
    "\n",
    "    return fwb\n",
    "}"
   ]
  },
  {
   "cell_type": "markdown",
   "id": "08d3bf15-912b-46df-b1d2-8241b6e18484",
   "metadata": {},
   "source": [
    "I will plot the results of `computeModelOutput()` into the plot."
   ]
  },
  {
   "cell_type": "code",
   "execution_count": 77,
   "id": "55f22567-66f5-4460-8754-7502de9b10e2",
   "metadata": {},
   "outputs": [
    {
     "data": {
      "image/png": "[encoded data removed]"
     },
     "metadata": {},
     "output_type": "display_data"
    }
   ],
   "source": [
    "%%\n",
    "\n",
    "tempFwb := computeModelOutput(xTrain, w, b)\n",
    "\n",
    "// Create a new plot\n",
    "plot := plot.New()\n",
    "plot.Title.Text = \"Housing Prices\"\n",
    "plot.X.Label.Text = \"Size (1000 sqft)\"\n",
    "plot.Y.Label.Text = \"Price (1000s of dollars)\"\n",
    "\n",
    "// Build XY points from VecDense\n",
    "m := xTrain.Len()\n",
    "points := make(plotter.XYs, m)\n",
    "for i := 0; i < m; i++ {\n",
    "    points[i].X = xTrain.AtVec(i)\n",
    "    points[i].Y = yTrain.AtVec(i)\n",
    "}\n",
    "\n",
    "// Scatter the points\n",
    "scatter, err := plotter.NewScatter(points)\n",
    "if err != nil { log.Fatal(err) }\n",
    "\n",
    "// Style the scatter points\n",
    "scatter.GlyphStyle.Shape = draw.CrossGlyph{}\n",
    "scatter.GlyphStyle.Color = color.RGBA{R: 255, A: 255}\n",
    "scatter.GlyphStyle.Radius = vg.Points(3)\n",
    "plot.Add(scatter)\n",
    "plot.Legend.Add(\"Actual Value\", scatter)\n",
    "\n",
    "// Line: model prediction\n",
    "pointsPrediction := make(plotter.XYs, xTrain.Len())\n",
    "for i := 0; i < m; i++ {\n",
    "    pointsPrediction[i].X = xTrain.AtVec(i)\n",
    "    pointsPrediction[i].Y = tempFwb[i]\n",
    "}\n",
    "line, _ := plotter.NewLine(pointsPrediction)\n",
    "\n",
    "// Style the line\n",
    "line.LineStyle.Width = vg.Points(1.5)\n",
    "line.LineStyle.Color = color.RGBA{B: 255, A: 255}\n",
    "plot.Add(line)\n",
    "plot.Legend.Add(\"Our Prediction\", line)\n",
    "\n",
    "// Display the plot\n",
    "writer, err := plot.WriterTo(6*vg.Inch, 4*vg.Inch, \"png\")\n",
    "if err != nil { log.Fatal(err) }\n",
    "buffer := new(bytes.Buffer)\n",
    "\n",
    "if _, err := writer.WriteTo(buffer); err != nil { log.Fatal(err) }\n",
    "\n",
    "gonbui.DisplayPng(buffer.Bytes())"
   ]
  },
  {
   "cell_type": "markdown",
   "id": "38264184-11d9-46d3-98e3-7b30050558d9",
   "metadata": {},
   "source": [
    "I need to adjust the weight of the model to make an accurate prediction."
   ]
  },
  {
   "cell_type": "code",
   "execution_count": 79,
   "id": "5b6049fb-265e-426e-ad48-797408ea5862",
   "metadata": {},
   "outputs": [
    {
     "data": {
      "image/png": "[encoded data removed]"
     },
     "metadata": {},
     "output_type": "display_data"
    }
   ],
   "source": [
    "%%\n",
    "\n",
    "w = 200\n",
    "\n",
    "tempFwb := computeModelOutput(xTrain, w, b)\n",
    "\n",
    "// Create a new plot\n",
    "plot := plot.New()\n",
    "plot.Title.Text = \"Housing Prices\"\n",
    "plot.X.Label.Text = \"Size (1000 sqft)\"\n",
    "plot.Y.Label.Text = \"Price (1000s of dollars)\"\n",
    "\n",
    "// Build XY points from VecDense\n",
    "m := xTrain.Len()\n",
    "points := make(plotter.XYs, m)\n",
    "for i := 0; i < m; i++ {\n",
    "    points[i].X = xTrain.AtVec(i)\n",
    "    points[i].Y = yTrain.AtVec(i)\n",
    "}\n",
    "\n",
    "// Scatter the points\n",
    "scatter, err := plotter.NewScatter(points)\n",
    "if err != nil { log.Fatal(err) }\n",
    "\n",
    "// Style the scatter points\n",
    "scatter.GlyphStyle.Shape = draw.CrossGlyph{}\n",
    "scatter.GlyphStyle.Color = color.RGBA{R: 255, A: 255}\n",
    "scatter.GlyphStyle.Radius = vg.Points(3)\n",
    "plot.Add(scatter)\n",
    "plot.Legend.Add(\"Actual Value\", scatter)\n",
    "\n",
    "// Line: model prediction\n",
    "pointsPrediction := make(plotter.XYs, xTrain.Len())\n",
    "for i := 0; i < m; i++ {\n",
    "    pointsPrediction[i].X = xTrain.AtVec(i)\n",
    "    pointsPrediction[i].Y = tempFwb[i]\n",
    "}\n",
    "line, _ := plotter.NewLine(pointsPrediction)\n",
    "\n",
    "// Style the line\n",
    "line.LineStyle.Width = vg.Points(1.5)\n",
    "line.LineStyle.Color = color.RGBA{B: 255, A: 255}\n",
    "plot.Add(line)\n",
    "plot.Legend.Add(\"Our Prediction\", line)\n",
    "\n",
    "// Display the plot\n",
    "writer, err := plot.WriterTo(6*vg.Inch, 4*vg.Inch, \"png\")\n",
    "if err != nil { log.Fatal(err) }\n",
    "buffer := new(bytes.Buffer)\n",
    "\n",
    "if _, err := writer.WriteTo(buffer); err != nil { log.Fatal(err) }\n",
    "\n",
    "gonbui.DisplayPng(buffer.Bytes())"
   ]
  },
  {
   "cell_type": "markdown",
   "id": "46868790-ee9b-4fa3-b1b5-8c8043b5a5e9",
   "metadata": {},
   "source": [
    "# Prediction\n",
    "\n",
    "Now that I have an accurate model I can use it to make the original prediction for the price of a house with 1200sqft."
   ]
  },
  {
   "cell_type": "code",
   "execution_count": 82,
   "id": "e7b26a6e-e763-4e48-b0b4-44b42b06ebee",
   "metadata": {},
   "outputs": [
    {
     "name": "stdout",
     "output_type": "stream",
     "text": [
      "340.00 thousand dollars"
     ]
    }
   ],
   "source": [
    "%%\n",
    "\n",
    "w := 200.0\n",
    "b := 100.0\n",
    "\n",
    "x_i := 1.2\n",
    "\n",
    "cost1200sqft := w * x_i + b\n",
    "\n",
    "fmt.Printf(\"%.2f thousand dollars\", cost1200sqft)"
   ]
  }
 ],
 "metadata": {
  "kernelspec": {
   "display_name": "Go (gonb)",
   "language": "go",
   "name": "gonb"
  },
  "language_info": {
   "codemirror_mode": "",
   "file_extension": ".go",
   "mimetype": "text/x-go",
   "name": "go",
   "nbconvert_exporter": "",
   "pygments_lexer": "",
   "version": "go1.25.3"
  }
 },
 "nbformat": 4,
 "nbformat_minor": 5
}
