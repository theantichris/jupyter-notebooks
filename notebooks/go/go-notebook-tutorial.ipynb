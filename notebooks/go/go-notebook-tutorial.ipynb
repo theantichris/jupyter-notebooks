{
 "cells": [
  {
   "cell_type": "code",
   "execution_count": 1,
   "id": "86649ce3-bce7-48dd-a21f-d9b9267442b7",
   "metadata": {},
   "outputs": [
    {
     "name": "stdout",
     "output_type": "stream",
     "text": [
      "Hello, world"
     ]
    }
   ],
   "source": [
    "func main() {\n",
    "    fmt.Print(\"Hello, world\")\n",
    "}"
   ]
  },
  {
   "cell_type": "code",
   "execution_count": 2,
   "id": "670132b8-b2ed-4c6b-9dec-6703884bc3e2",
   "metadata": {},
   "outputs": [
    {
     "name": "stdout",
     "output_type": "stream",
     "text": [
      "Hello, world without main()"
     ]
    }
   ],
   "source": [
    "%%\n",
    "\n",
    "fmt.Print(\"Hello, world without main()\")"
   ]
  },
  {
   "cell_type": "code",
   "execution_count": null,
   "id": "641bbc23-63f8-4dd8-887b-f23cdcbd71fa",
   "metadata": {},
   "outputs": [],
   "source": []
  }
 ],
 "metadata": {
  "kernelspec": {
   "display_name": "Go (gonb)",
   "language": "go",
   "name": "gonb"
  },
  "language_info": {
   "codemirror_mode": "",
   "file_extension": ".go",
   "mimetype": "text/x-go",
   "name": "go",
   "nbconvert_exporter": "",
   "pygments_lexer": "",
   "version": "go1.25.3"
  }
 },
 "nbformat": 4,
 "nbformat_minor": 5
}
